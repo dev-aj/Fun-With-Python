{
 "cells": [
  {
   "cell_type": "code",
   "execution_count": 63,
   "metadata": {},
   "outputs": [],
   "source": [
    "from selenium import webdriver\n",
    "from selenium.webdriver.support import expected_conditions as ec\n",
    "from selenium.webdriver.support.ui import WebDriverWait\n",
    "from selenium.webdriver.common.by import By\n",
    "from selenium.webdriver.common.keys import Keys\n",
    "import time\n"
   ]
  },
  {
   "cell_type": "code",
   "execution_count": 64,
   "metadata": {},
   "outputs": [
    {
     "name": "stdout",
     "output_type": "stream",
     "text": [
      "Scan QR Code, And then Enter\n",
      "\n",
      "Logged In\n"
     ]
    }
   ],
   "source": [
    "browser = webdriver.Firefox(executable_path=r'C:\\Users\\AJ\\Documents\\Pyhton-whatsapp-auto\\geckodriver-v0.26.0-win64\\geckodriver.exe')\n",
    "browser.get('https://web.whatsapp.com/')\n",
    "wait = WebDriverWait(browser, 500);#5 sec Wait to scan the QR manually\n",
    "chkbx = browser.find_elements_by_tag_name(\"input\");\n",
    "chkbx[0].click()\n",
    "reload = browser.find_elements_by_class_name('_2JTSk');\n",
    "if len(reload) > 0:\n",
    "    reload[0].click()\n",
    "\n",
    "print(\"Scan QR Code, And then Enter\")\n",
    "input()\n",
    "print(\"Logged In\")"
   ]
  },
  {
   "cell_type": "code",
   "execution_count": 65,
   "metadata": {},
   "outputs": [],
   "source": [
    "contact=\"Input Name Of Receiver\"\n",
    "user = browser.find_element_by_xpath(\"//span[@title='{}']\".format(contact))\n",
    "time.sleep(2)\n",
    "user.click()"
   ]
  },
  {
   "cell_type": "code",
   "execution_count": 71,
   "metadata": {},
   "outputs": [],
   "source": [
    "inp_xpath = '//div[@class=\"_2S1VP copyable-text selectable-text\"][@contenteditable=\"true\"][@data-tab=\"1\"]'\n",
    "input_box = browser.find_element_by_xpath(inp_xpath)\n",
    "time.sleep(2)\n",
    "for i in range(1):\n",
    "    input_box.send_keys('Testing done..Thanks for your patience😊😁' + Keys.ENTER)\n",
    "    time.sleep(1)"
   ]
  },
  {
   "cell_type": "code",
   "execution_count": 67,
   "metadata": {},
   "outputs": [],
   "source": [
    "img_path = r"Enter path of image ypu want to send\""
   ]
  },
  {
   "cell_type": "code",
   "execution_count": 68,
   "metadata": {},
   "outputs": [],
   "source": [
    "attachment = browser.find_elements_by_xpath('//div[@title=\"Attach\"]')\n",
    "#print(attachment)\n",
    "attachment[0].click()"
   ]
  },
  {
   "cell_type": "code",
   "execution_count": 69,
   "metadata": {},
   "outputs": [],
   "source": [
    "img_box = browser.find_elements_by_xpath('//input[@accept=\"image/*,video/mp4,video/3gpp,video/quicktime\"]')\n",
    "#print(img_box)\n",
    "img_box[0].send_keys(img_path)\n",
    "time.sleep(3)"
   ]
  },
  {
   "cell_type": "code",
   "execution_count": 70,
   "metadata": {},
   "outputs": [],
   "source": [
    "send = browser.find_elements_by_xpath('//span[@data-icon=\"send-light\"]')\n",
    "send[0].click()"
   ]
  },
  {
   "cell_type": "code",
   "execution_count": null,
   "metadata": {},
   "outputs": [],
   "source": []
  }
 ],
 "metadata": {
  "kernelspec": {
   "display_name": "Python 3",
   "language": "python",
   "name": "python3"
  },
  "language_info": {
   "codemirror_mode": {
    "name": "ipython",
    "version": 3
   },
   "file_extension": ".py",
   "mimetype": "text/x-python",
   "name": "python",
   "nbconvert_exporter": "python",
   "pygments_lexer": "ipython3",
   "version": "3.7.6"
  }
 },
 "nbformat": 4,
 "nbformat_minor": 4
}
